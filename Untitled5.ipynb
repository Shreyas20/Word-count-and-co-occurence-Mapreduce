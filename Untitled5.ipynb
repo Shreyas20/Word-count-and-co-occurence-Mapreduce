{
 "cells": [
  {
   "cell_type": "code",
   "execution_count": 12,
   "metadata": {
    "collapsed": true
   },
   "outputs": [],
   "source": [
    "import pandas as pd\n",
    "data1 = pd.read_csv('cooc.txt', sep=\"\\t\", header=None)\n",
    "data1.columns = ['wordpair', 'count']"
   ]
  },
  {
   "cell_type": "code",
   "execution_count": 13,
   "metadata": {},
   "outputs": [
    {
     "name": "stderr",
     "output_type": "stream",
     "text": [
      "/home/shreyas/anaconda3/lib/python3.6/site-packages/ipykernel_launcher.py:13: SettingWithCopyWarning: \n",
      "A value is trying to be set on a copy of a slice from a DataFrame\n",
      "\n",
      "See the caveats in the documentation: http://pandas.pydata.org/pandas-docs/stable/indexing.html#indexing-view-versus-copy\n",
      "  del sys.path[0]\n"
     ]
    },
    {
     "name": "stdout",
     "output_type": "stream",
     "text": [
      "[49, 34, 43, 80, 22, 31, 62, 13, 50, 35, 44, 75, 84, 25, 65, 73, 39, 76, 81, 32, 63, 70, 51, 36, 45, 82, 64, 59, 67, 47, 55, 79, 54, 77, 58, 66, 78, 71, 74, 83]\n",
      "45\n"
     ]
    }
   ],
   "source": [
    "from ast import literal_eval\n",
    "droplist=[]\n",
    "for i in range(0,len(data1)):\n",
    "    for j in range(i,len(data1)):\n",
    "        a=literal_eval(data1['wordpair'][i])\n",
    "        b=literal_eval(data1['wordpair'][j])\n",
    "        #print(a,b)\n",
    "        \n",
    "        if (a[0]==b[1] and b[0]==a[1]):\n",
    "#             print(\"yes\")\n",
    "#             print(data1['count'][i])\n",
    "#             print(data1['count'][j])\n",
    "            data1['count'][i]=data1['count'][i]+data1['count'][j]\n",
    "            droplist.append(j)\n",
    "\n",
    "print(droplist)\n",
    "data1=data1.drop(data1.index[droplist])\n",
    "print(len(data1))"
   ]
  },
  {
   "cell_type": "code",
   "execution_count": 14,
   "metadata": {},
   "outputs": [],
   "source": [
    "data1.to_csv('coocRemovedRepeat.txt', header=False, index=False, sep='\\t', mode='a')\n"
   ]
  },
  {
   "cell_type": "code",
   "execution_count": 15,
   "metadata": {},
   "outputs": [
    {
     "name": "stdout",
     "output_type": "stream",
     "text": [
      "Enter File name:\n",
      "count.csv\n",
      "Tweets(T) or articles(A)?\n",
      "T\n"
     ]
    }
   ],
   "source": [
    "filename=input(\"Enter File name:\\n\")\n",
    "import pandas as pd\n",
    "data = pd.read_csv(filename, sep=\"\\t\", header=None)\n",
    "data.columns = ['word', 'count']\n",
    "df_sort=data.sort_values('count',ascending=False)\n",
    "top10=df_sort.head(10)\n",
    "top10.to_csv('top10words.csv', header=True, index=False, sep='\\t', mode='a')\n",
    "top10words=top10['word']\n",
    "choice=input(\"Tweets(T) or articles(A)?\\n\")\n",
    "if choice==\"T\" or choice==\"t\":\n",
    "    top10file=\"top10wordstweets.txt\"\n",
    "elif choice==\"A\" or choice==\"a\":\n",
    "    top10file=\"top10wordstweets.txt\"\n",
    "\n",
    "top10words.to_csv(top10file, header=False, index=False, sep='\\t', mode='a')"
   ]
  },
  {
   "cell_type": "code",
   "execution_count": 17,
   "metadata": {},
   "outputs": [
    {
     "ename": "FileNotFoundError",
     "evalue": "[Errno 2] No such file or directory: '/home/shreyas/top10wordsTweets.txt'",
     "output_type": "error",
     "traceback": [
      "\u001b[0;31m---------------------------------------------------------------------------\u001b[0m",
      "\u001b[0;31mFileNotFoundError\u001b[0m                         Traceback (most recent call last)",
      "\u001b[0;32m<ipython-input-17-f6b915f36fcc>\u001b[0m in \u001b[0;36m<module>\u001b[0;34m()\u001b[0m\n\u001b[0;32m----> 1\u001b[0;31m \u001b[0mf\u001b[0m\u001b[0;34m=\u001b[0m\u001b[0mopen\u001b[0m\u001b[0;34m(\u001b[0m\u001b[0;34m'/home/shreyas/top10wordsTweets.txt'\u001b[0m\u001b[0;34m,\u001b[0m\u001b[0;34m'r'\u001b[0m\u001b[0;34m)\u001b[0m\u001b[0;34m\u001b[0m\u001b[0m\n\u001b[0m\u001b[1;32m      2\u001b[0m \u001b[0ml\u001b[0m\u001b[0;34m=\u001b[0m\u001b[0mf\u001b[0m\u001b[0;34m.\u001b[0m\u001b[0mreadline\u001b[0m\u001b[0;34m(\u001b[0m\u001b[0;34m)\u001b[0m\u001b[0;34m\u001b[0m\u001b[0m\n\u001b[1;32m      3\u001b[0m \u001b[0mf\u001b[0m\u001b[0;34m.\u001b[0m\u001b[0mclose\u001b[0m\u001b[0;34m(\u001b[0m\u001b[0;34m)\u001b[0m\u001b[0;34m\u001b[0m\u001b[0m\n\u001b[1;32m      4\u001b[0m \u001b[0mtop10\u001b[0m\u001b[0;34m=\u001b[0m\u001b[0ml\u001b[0m\u001b[0;34m.\u001b[0m\u001b[0msplit\u001b[0m\u001b[0;34m(\u001b[0m\u001b[0;34m'\\t'\u001b[0m\u001b[0;34m)\u001b[0m\u001b[0;34m\u001b[0m\u001b[0m\n",
      "\u001b[0;31mFileNotFoundError\u001b[0m: [Errno 2] No such file or directory: '/home/shreyas/top10wordsTweets.txt'"
     ]
    }
   ],
   "source": [
    "f=open('/home/shreyas/top10wordstf=open('/home/shreyas/top10wordsNYT.txt','r')\n",
    "\t\tl=f.readline()\n",
    "\t\tf.close()\n",
    "\t\ttop10=l.split('\\t')weets.txt','r')\n",
    "l=f.readline()\n",
    "f.close()\n",
    "top10=l.split('\\t')\n"
   ]
  },
  {
   "cell_type": "code",
   "execution_count": 40,
   "metadata": {},
   "outputs": [],
   "source": [
    "f=open('/home/shreyas/top10wordsNYT.txt','r')\n",
    "l=f.read()\n",
    "f.close()\n",
    "top10=l.split('\\n')"
   ]
  },
  {
   "cell_type": "code",
   "execution_count": 41,
   "metadata": {},
   "outputs": [
    {
     "data": {
      "text/plain": [
       "['said',\n",
       " 'shot',\n",
       " 'par',\n",
       " 'first',\n",
       " 'one',\n",
       " 'two',\n",
       " 'three',\n",
       " 'back',\n",
       " 'new',\n",
       " 'second',\n",
       " '']"
      ]
     },
     "execution_count": 41,
     "metadata": {},
     "output_type": "execute_result"
    }
   ],
   "source": [
    "top10"
   ]
  }
 ],
 "metadata": {
  "kernelspec": {
   "display_name": "Python 3",
   "language": "python",
   "name": "python3"
  },
  "language_info": {
   "codemirror_mode": {
    "name": "ipython",
    "version": 3
   },
   "file_extension": ".py",
   "mimetype": "text/x-python",
   "name": "python",
   "nbconvert_exporter": "python",
   "pygments_lexer": "ipython3",
   "version": "3.6.3"
  }
 },
 "nbformat": 4,
 "nbformat_minor": 2
}
