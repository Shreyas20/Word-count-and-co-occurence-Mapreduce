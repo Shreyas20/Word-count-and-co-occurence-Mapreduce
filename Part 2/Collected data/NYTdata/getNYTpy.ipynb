{
 "cells": [
  {
   "cell_type": "code",
   "execution_count": 15,
   "metadata": {},
   "outputs": [
    {
     "name": "stdout",
     "output_type": "stream",
     "text": [
      "https://www.nytimes.com/aponline/2018/04/06/us/ap-us-school-shooting-florida.html\n",
      "https://www.nytimes.com/aponline/2018/04/06/us/ap-us-police-shooting-brooklyn.html\n",
      "https://www.nytimes.com/aponline/2018/04/06/us/ap-us-shooting-ohio-school.html\n",
      "https://www.nytimes.com/2018/04/05/todayspaper/quotation-of-the-day-locals-knew-he-was-mentally-ill-police-who-shot-him-didnt.html\n",
      "https://www.nytimes.com/aponline/2018/04/06/us/ap-us-man-shot-arrow.html\n",
      "https://www.nytimes.com/aponline/2018/04/06/us/ap-us-mother-shot-baby.html\n",
      "https://www.nytimes.com/aponline/2018/04/06/us/ap-us-parents-shooting.html\n",
      "https://www.nytimes.com/aponline/2018/04/06/us/ap-us-police-shooting-brooklyn-the-latest.html\n",
      "https://www.nytimes.com/aponline/2018/04/06/us/ap-ga-police-shooting-savannah.html\n",
      "https://www.nytimes.com/aponline/2018/04/05/us/ap-us-triple-homicide-sentence.html\n",
      "https://www.nytimes.com/aponline/2018/04/06/us/politics/ap-us-school-shooting-first-pitch.html\n",
      "https://www.nytimes.com/aponline/2018/04/06/us/ap-us-stallone-creed-ii-philadelphia.html\n",
      "https://www.nytimes.com/aponline/2018/04/06/us/ap-us-mayor-tweet-school-shooting.html\n",
      "https://www.nytimes.com/2018/04/06/arts/television/atlanta-season-2-episode-6-recap.html\n",
      "https://www.nytimes.com/aponline/2018/04/05/us/ap-us-sacramento-police-shooting-senator.html\n",
      "https://www.nytimes.com/2018/04/06/learning/can-being-nicer-to-your-peers-prevent-school-violence.html\n",
      "https://www.nytimes.com/2018/04/05/nyregion/brooklyn-police-shooting-saheed-vassell.html\n",
      "https://www.nytimes.com/aponline/2018/04/06/sports/golf/ap-glf-tim-dahlberg-mcilroy.html\n",
      "https://www.nytimes.com/reuters/2018/04/06/us/06reuters-california-cliff-crash.html\n",
      "https://www.nytimes.com/aponline/2018/04/06/sports/basketball/ap-bkn-timberwolves-nuggets.html\n",
      "https://www.nytimes.com/aponline/2018/04/06/us/ap-us-youtube-shooting.html\n",
      "https://www.nytimes.com/aponline/2018/04/06/us/ap-us-guns-lawsuit.html\n",
      "https://www.nytimes.com/2018/04/06/technology/kevin-week-in-tech.html\n",
      "https://www.nytimes.com/2018/04/06/us/california-today-antonio-villaraigosa.html\n",
      "https://www.nytimes.com/2018/04/06/briefing/china-donald-trump-south-korea.html\n",
      "https://www.nytimes.com/2018/04/05/sports/tony-finau-masters.html\n",
      "https://www.nytimes.com/2018/04/06/obituaries/sheila-link-sportswoman-and-firearms-writer-dies-at-94.html\n",
      "https://www.nytimes.com/aponline/2018/04/05/sports/basketball/ap-bkn-trail-blazers-rockets.html\n",
      "https://www.nytimes.com/aponline/2018/04/06/sports/ncaabasketball/ap-bkc-alabama-sexton-draft.html\n",
      "https://www.nytimes.com/aponline/2018/04/05/sports/basketball/ap-bkn-nets-bucks.html\n",
      "https://www.nytimes.com/reuters/2018/04/06/business/06reuters-usa-economy.html\n",
      "https://www.nytimes.com/aponline/2018/04/05/sports/basketball/ap-bkn-warriors-pacers.html\n",
      "https://www.nytimes.com/reuters/2018/04/06/world/middleeast/06reuters-israel-palestinians-gaza-explainer.html\n",
      "https://www.nytimes.com/2018/04/06/movies/netflix-originals-mute-the-ritual-ravenous.html\n",
      "https://www.nytimes.com/aponline/2018/04/06/sports/baseball/ap-bbo-baseballs-or-snowballs.html\n",
      "https://www.nytimes.com/aponline/2018/04/06/us/ap-glf-masters.html\n",
      "https://www.nytimes.com/aponline/2018/04/06/sports/golf/ap-glf-masters-the-latest.html\n",
      "https://www.nytimes.com/2018/04/06/business/dealbook/tariffs-trump-china-trade.html\n",
      "https://www.nytimes.com/2018/04/06/sports/masters-leaderboard-tiger-woods.html\n",
      "We got only 78  articles for selected period\n"
     ]
    }
   ],
   "source": [
    "from nytimesarticle import articleAPI\n",
    "from bs4 import BeautifulSoup\n",
    "import requests\n",
    "api = articleAPI(\"458e6335355c4f2fb83770f41baa4309\")\n",
    "#f=open('nytarticlesday.txt','w')\n",
    "links=[]\n",
    "n=0\n",
    "try:\n",
    "    for a in range(0,20):\n",
    "        articles = api.search(q=\"N.B.A.\", begin_date=20180201,page=a)\n",
    "        for i in range(0,len(articles['response']['docs'])):\n",
    "            url = articles['response']['docs'][i]['web_url']\n",
    "            data = requests.get(url)\n",
    "            soup = BeautifulSoup(data.content, 'html.parser')\n",
    "            soup.prettify()\n",
    "            filename='NBA'+str(n)+'.txt'\n",
    "            f=open(filename,'w')\n",
    "            for j in range((len(soup.find_all('p')))-3):\n",
    "                f.write(soup.find_all('p')[j].get_text())\n",
    "            f.close()\n",
    "            #print(url)\n",
    "            links.append(url)\n",
    "            n+=1\n",
    "    \n",
    "except:\n",
    "    print(\"We got only\",len(links),\" articles for selected period\")"
   ]
  },
  {
   "cell_type": "code",
   "execution_count": 16,
   "metadata": {
    "scrolled": false
   },
   "outputs": [
    {
     "data": {
      "text/plain": [
       "39"
      ]
     },
     "execution_count": 16,
     "metadata": {},
     "output_type": "execute_result"
    }
   ],
   "source": [
    "len(links)"
   ]
  },
  {
   "cell_type": "code",
   "execution_count": 1,
   "metadata": {},
   "outputs": [],
   "source": [
    "i=0\n",
    "filename='sports'+str(i)+'.txt'"
   ]
  },
  {
   "cell_type": "code",
   "execution_count": 5,
   "metadata": {},
   "outputs": [
    {
     "name": "stdout",
     "output_type": "stream",
     "text": [
      "https://www.nytimes.com/2018/03/03/world/middleeast/egypt-north-korea-sanctions-arms-dealing.html\n",
      "https://www.nytimes.com/2018/03/16/opinion/burn-it-down-rex.html\n",
      "https://www.nytimes.com/2018/02/22/sports/olympics/arirang-korean-song-olympics-.html\n",
      "https://www.nytimes.com/2018/04/24/world/asia/harry-harris-south-korea-envoy.html\n",
      "https://www.nytimes.com/aponline/2018/04/26/world/asia/ap-as-koreas-summit-panmunjom.html\n",
      "https://www.nytimes.com/2018/04/24/world/asia/korea-peace-treaty.html\n",
      "https://www.nytimes.com/2018/04/23/opinion/supreme-court-travel-ban-trump.html\n",
      "https://www.nytimes.com/2018/03/10/arts/11-of-our-best-weekend-reads.html\n",
      "https://www.nytimes.com/2018/04/21/us/politics/the-biggest-stories-in-american-politics-this-week.html\n",
      "https://www.nytimes.com/2018/02/21/world/australia/trump-turnbull-white-house.html\n"
     ]
    }
   ],
   "source": [
    "from nytimesarticle import articleAPI\n",
    "from bs4 import BeautifulSoup\n",
    "import requests\n",
    "api = articleAPI(\"458e6335355c4f2fb83770f41baa4309\")\n",
    "f=open('nytarticlesday.txt','w')\n",
    "links=[]\n",
    "articles = api.search(q='North Korea',begin_date = 20180215,page=1)\n",
    "#f=open('sports.txt','w')\n",
    "for i in range(0,10):\n",
    "    \n",
    "    url = articles['response']['docs'][i]['web_url']\n",
    "    data = requests.get(url)\n",
    "    soup = BeautifulSoup(data.content, 'html.parser')\n",
    "    soup.prettify()\n",
    "    for i in range((len(soup.find_all('p')))-3):\n",
    "     \n",
    "      f.write(soup.find_all('p')[i].get_text())\n",
    "    \n",
    "    print(url)\n",
    "    links.append(url)\n",
    "f.close()"
   ]
  },
  {
   "cell_type": "code",
   "execution_count": 6,
   "metadata": {},
   "outputs": [
    {
     "name": "stdout",
     "output_type": "stream",
     "text": [
      "/home/shreyas/documents/python/file.txt\n"
     ]
    }
   ],
   "source": [
    "import os\n",
    "path = os.path.join(os.path.expanduser('~'), 'documents', 'python', 'file.txt')\n",
    "print (path)"
   ]
  }
 ],
 "metadata": {
  "kernelspec": {
   "display_name": "Python 3",
   "language": "python",
   "name": "python3"
  },
  "language_info": {
   "codemirror_mode": {
    "name": "ipython",
    "version": 3
   },
   "file_extension": ".py",
   "mimetype": "text/x-python",
   "name": "python",
   "nbconvert_exporter": "python",
   "pygments_lexer": "ipython3",
   "version": "3.6.3"
  }
 },
 "nbformat": 4,
 "nbformat_minor": 2
}
